{
 "cells": [
  {
   "cell_type": "code",
   "execution_count": 2,
   "id": "f87f8094-236b-42ab-b64b-320850e0d0a7",
   "metadata": {},
   "outputs": [],
   "source": [
    "import playwright\n",
    "import pandas"
   ]
  },
  {
   "cell_type": "code",
   "execution_count": null,
   "id": "47d1baab-29b9-435f-8db6-34f52cc44ebd",
   "metadata": {},
   "outputs": [],
   "source": []
  }
 ],
 "metadata": {
  "kernelspec": {
   "display_name": "newsScraper",
   "language": "python",
   "name": "newsscraper"
  },
  "language_info": {
   "codemirror_mode": {
    "name": "ipython",
    "version": 3
   },
   "file_extension": ".py",
   "mimetype": "text/x-python",
   "name": "python",
   "nbconvert_exporter": "python",
   "pygments_lexer": "ipython3",
   "version": "3.12.8"
  }
 },
 "nbformat": 4,
 "nbformat_minor": 5
}
