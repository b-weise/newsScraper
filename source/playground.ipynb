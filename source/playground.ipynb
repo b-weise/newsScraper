{
 "cells": [
  {
   "cell_type": "code",
   "execution_count": null,
   "id": "f87f8094-236b-42ab-b64b-320850e0d0a7",
   "metadata": {},
   "outputs": [],
   "source": [
    "import pandas\n",
    "import asyncio\n",
    "import sys\n",
    "import traceback\n",
    "from playwright.async_api import async_playwright, Playwright, expect\n",
    "from collections.abc import Callable\n",
    "\n",
    "wh = None\n",
    "configs = {\n",
    "    'NavigationDefaultTimeoutSec': 5,\n",
    "    'PageDefaultTimeoutSec': 5,\n",
    "}\n",
    "\n",
    "class ManualLoopInterrupt(Exception):\n",
    "    pass"
   ]
  },
  {
   "cell_type": "code",
   "execution_count": null,
   "id": "47d1baab-29b9-435f-8db6-34f52cc44ebd",
   "metadata": {},
   "outputs": [],
   "source": [
    "class WebHandler:\n",
    "    def __init__(self):\n",
    "        self.callee = None\n",
    "        \n",
    "    async def main_loop(self):\n",
    "        async with async_playwright() as playwright:\n",
    "            global browser_context\n",
    "            chromium = playwright.chromium\n",
    "            browser_context = await chromium.launch_persistent_context('', headless=False)\n",
    "            browser_context.set_default_navigation_timeout(configs['NavigationDefaultTimeoutSec'] * 1000)\n",
    "            browser_context.set_default_timeout(configs['PageDefaultTimeoutSec'] * 1000)\n",
    "\n",
    "            while True:\n",
    "                try:\n",
    "                    if isinstance(self.callee, Callable):\n",
    "                        await self.callee(browser_context)\n",
    "                except ManualLoopInterrupt:\n",
    "                    break\n",
    "                except:\n",
    "                    print(''.join(traceback.format_exception(*sys.exc_info())))\n",
    "                finally:\n",
    "                    self.callee = None\n",
    "                    await asyncio.sleep(1)\n",
    "                    \n",
    "            await browser_context.close()"
   ]
  },
  {
   "cell_type": "code",
   "execution_count": null,
   "id": "832e48f0-a655-458b-8f70-40ece33ddba1",
   "metadata": {},
   "outputs": [],
   "source": [
    "global wh\n",
    "wh = WebHandler()\n",
    "asyncio.create_task(wh.main_loop())"
   ]
  },
  {
   "cell_type": "code",
   "execution_count": null,
   "id": "79c496f3-44ff-409a-96df-8835a9e7f797",
   "metadata": {},
   "outputs": [],
   "source": [
    "async def test(browser_context):\n",
    "    # raise ManualLoopInterrupt()\n",
    "    print(type(browser_context))\n",
    "\n",
    "wh.callee = test"
   ]
  },
  {
   "cell_type": "code",
   "execution_count": null,
   "id": "ac67760c-38f4-4200-871f-6197fec75711",
   "metadata": {},
   "outputs": [],
   "source": [
    "async def test(browser_context):\n",
    "    # raise ManualLoopInterrupt()\n",
    "    page = browser_context.pages[0]\n",
    "    print(f'page.url: {page.url}')\n",
    "    await page.goto('https://www.google.com')\n",
    "    print(f'page.url: {page.url}')\n",
    "\n",
    "wh.callee = test"
   ]
  },
  {
   "cell_type": "code",
   "execution_count": null,
   "id": "5ca810d0-410b-4bc6-bf1a-044595bd58c8",
   "metadata": {},
   "outputs": [],
   "source": [
    "async def test(browser_context):\n",
    "    # raise ManualLoopInterrupt()\n",
    "    page = browser_context.pages[0]\n",
    "    user_agent = await page.evaluate(\"\"\"() => navigator.userAgent\"\"\")\n",
    "    print(f'user_agent: {user_agent}')\n",
    "\n",
    "wh.callee = test"
   ]
  },
  {
   "cell_type": "code",
   "execution_count": null,
   "id": "bcfbeace-7889-4fa3-9bef-b025384302c1",
   "metadata": {},
   "outputs": [],
   "source": [
    "async def test(browser_context):\n",
    "    # raise ManualLoopInterrupt()\n",
    "    api_req_context = browser_context.request\n",
    "    response = await api_req_context.get('https://www.pagina12.com.ar/robots.txt')\n",
    "    print(response)\n",
    "    text = await response.text()\n",
    "    print(text)\n",
    "\n",
    "wh.callee = test"
   ]
  },
  {
   "cell_type": "code",
   "execution_count": null,
   "id": "6633a9d7-1790-487f-be92-b475c0078dd3",
   "metadata": {},
   "outputs": [],
   "source": []
  }
 ],
 "metadata": {
  "kernelspec": {
   "display_name": "newsScraper",
   "language": "python",
   "name": "newsscraper"
  },
  "language_info": {
   "codemirror_mode": {
    "name": "ipython",
    "version": 3
   },
   "file_extension": ".py",
   "mimetype": "text/x-python",
   "name": "python",
   "nbconvert_exporter": "python",
   "pygments_lexer": "ipython3",
   "version": "3.12.8"
  }
 },
 "nbformat": 4,
 "nbformat_minor": 5
}
