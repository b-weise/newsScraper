{
 "cells": [
  {
   "cell_type": "code",
   "execution_count": null,
   "id": "1561b246-e675-4758-9583-5916e5c52349",
   "metadata": {},
   "outputs": [],
   "source": [
    "import pandas\n",
    "import asyncio\n",
    "import sys\n",
    "import re\n",
    "import json\n",
    "import traceback\n",
    "from playwright.async_api import async_playwright, Playwright, expect\n",
    "from playwright_stealth import stealth_async\n",
    "from collections.abc import Callable"
   ]
  },
  {
   "cell_type": "code",
   "execution_count": null,
   "id": "c2d9dbcd-3a76-4d25-96d4-f237f1cc66f8",
   "metadata": {},
   "outputs": [],
   "source": [
    "configs = {\n",
    "    'NavigationDefaultTimeoutSec': 5,\n",
    "    'PageDefaultTimeoutSec': 5,\n",
    "    'WaitingSecWithinActions': 1,\n",
    "}\n",
    "\n",
    "class ManualLoopInterrupt(Exception):\n",
    "    pass"
   ]
  },
  {
   "cell_type": "code",
   "execution_count": null,
   "id": "47d1baab-29b9-435f-8db6-34f52cc44ebd",
   "metadata": {},
   "outputs": [],
   "source": [
    "class WebHandler:\n",
    "    def __init__(self):\n",
    "        self.callee = None\n",
    "        \n",
    "    async def main_loop(self):\n",
    "        async with async_playwright() as playwright:\n",
    "            global browser_context\n",
    "            chromium = playwright.chromium\n",
    "            browser_context = await chromium.launch_persistent_context('',\n",
    "                                                                       headless=False,\n",
    "                                                                       user_agent='Mozilla/5.0 (Windows NT 10.0; Win64; x64; rv:131.0) Gecko/20100101 Firefox/131.',\n",
    "                                                                      )\n",
    "            browser_context.set_default_navigation_timeout(configs['NavigationDefaultTimeoutSec'] * 1000)\n",
    "            browser_context.set_default_timeout(configs['PageDefaultTimeoutSec'] * 1000)\n",
    "            stealth_page = browser_context.pages[0]\n",
    "            await stealth_async(stealth_page)\n",
    "            \n",
    "            print('Launched!')\n",
    "            while True:\n",
    "                try:\n",
    "                    if isinstance(self.callee, Callable):\n",
    "                        await self.callee(stealth_page, browser_context)\n",
    "                except ManualLoopInterrupt:\n",
    "                    break\n",
    "                except:\n",
    "                    print(''.join(traceback.format_exception(*sys.exc_info())))\n",
    "                finally:\n",
    "                    self.callee = None\n",
    "                    await asyncio.sleep(1)\n",
    "                    \n",
    "            await browser_context.close()"
   ]
  },
  {
   "cell_type": "code",
   "execution_count": null,
   "id": "832e48f0-a655-458b-8f70-40ece33ddba1",
   "metadata": {},
   "outputs": [],
   "source": [
    "wh = WebHandler()\n",
    "asyncio.create_task(wh.main_loop())"
   ]
  },
  {
   "cell_type": "code",
   "execution_count": null,
   "id": "e83d7c0e-e04c-45b4-a7cf-a02808ac561a",
   "metadata": {},
   "outputs": [],
   "source": []
  },
  {
   "cell_type": "code",
   "execution_count": null,
   "id": "79c496f3-44ff-409a-96df-8835a9e7f797",
   "metadata": {},
   "outputs": [],
   "source": [
    "async def test(stealth_page, browser_context):\n",
    "    # raise ManualLoopInterrupt()\n",
    "    print(type(browser_context))\n",
    "\n",
    "wh.callee = test"
   ]
  },
  {
   "cell_type": "code",
   "execution_count": null,
   "id": "e62b0ab2-b38b-4c67-be3f-fa189c9fe062",
   "metadata": {},
   "outputs": [],
   "source": []
  },
  {
   "cell_type": "code",
   "execution_count": null,
   "id": "ac67760c-38f4-4200-871f-6197fec75711",
   "metadata": {},
   "outputs": [],
   "source": [
    "async def test(stealth_page, browser_context):\n",
    "    # raise ManualLoopInterrupt()\n",
    "    print(f'stealth_page.url: {stealth_page.url}')\n",
    "    await stealth_page.goto('https://www.google.com')\n",
    "    print(f'stealth_page.url: {stealth_page.url}')\n",
    "\n",
    "wh.callee = test"
   ]
  },
  {
   "cell_type": "code",
   "execution_count": null,
   "id": "821f12dd-5df5-48d5-8cd3-0164b5a371b0",
   "metadata": {},
   "outputs": [],
   "source": []
  },
  {
   "cell_type": "code",
   "execution_count": null,
   "id": "1372e9df-d274-4c3a-8fbc-67663d1f1553",
   "metadata": {},
   "outputs": [],
   "source": [
    "async def test(stealth_page, browser_context):\n",
    "    # raise ManualLoopInterrupt()\n",
    "    print(f'stealth_page.url: {stealth_page.url}')\n",
    "    await stealth_page.goto('https://arh.antoinevastel.com/bots/areyouheadless')\n",
    "    print(f'stealth_page.url: {stealth_page.url}')\n",
    "\n",
    "wh.callee = test"
   ]
  },
  {
   "cell_type": "code",
   "execution_count": null,
   "id": "a50fa2e0-6f14-497f-8027-357ba484a8a2",
   "metadata": {},
   "outputs": [],
   "source": [
    "async def test(stealth_page, browser_context):\n",
    "    # raise ManualLoopInterrupt()\n",
    "    msg_div = stealth_page.locator('#res')\n",
    "    msg_contents = await msg_div.inner_text()\n",
    "    print(f'msg_contents: {msg_contents}')\n",
    "\n",
    "wh.callee = test"
   ]
  },
  {
   "cell_type": "code",
   "execution_count": null,
   "id": "86a2876a-aff0-4072-a6c3-97e1298adcfd",
   "metadata": {},
   "outputs": [],
   "source": []
  },
  {
   "cell_type": "code",
   "execution_count": null,
   "id": "267403b5-9294-4638-97ba-c4e5f1df85e1",
   "metadata": {},
   "outputs": [],
   "source": [
    "async def test(stealth_page, browser_context):\n",
    "    # raise ManualLoopInterrupt()\n",
    "    print(f'stealth_page.url: {stealth_page.url}')\n",
    "    await stealth_page.goto('https://www.useragents.me')\n",
    "    print(f'stealth_page.url: {stealth_page.url}')\n",
    "\n",
    "wh.callee = test"
   ]
  },
  {
   "cell_type": "code",
   "execution_count": null,
   "id": "e5356b5d-e56a-48ea-ae82-e4d197824917",
   "metadata": {},
   "outputs": [],
   "source": [
    "async def test(stealth_page, browser_context):\n",
    "    # raise ManualLoopInterrupt()\n",
    "    json_parent_div = stealth_page.locator('#most-common-desktop-useragents-json-csv')\n",
    "    await json_parent_div.highlight()\n",
    "    print(f'json_parent_div: {json_parent_div}')\n",
    "    await stealth_page.wait_for_timeout(configs['WaitingSecWithinActions'] * 1000)\n",
    "\n",
    "    json_div = json_parent_div.locator('div', has_text='JSON')\n",
    "    await json_div.highlight()\n",
    "    print(f'json_div: {json_div}')\n",
    "    await stealth_page.wait_for_timeout(configs['WaitingSecWithinActions'] * 1000)\n",
    "\n",
    "    json_textarea = json_div.locator('textarea')\n",
    "    await json_textarea.highlight()\n",
    "    print(f'json_textarea: {json_textarea}')\n",
    "    await stealth_page.wait_for_timeout(configs['WaitingSecWithinActions'] * 1000)\n",
    "\n",
    "    json_text = await json_textarea.input_value()\n",
    "    parsed_json = json.loads(json_text)\n",
    "    print(f'json_text: {str(json.dumps(parsed_json, indent=4))}')\n",
    "\n",
    "\n",
    "wh.callee = test"
   ]
  },
  {
   "cell_type": "code",
   "execution_count": null,
   "id": "a5f27a90-1cbe-437a-8f69-7967f3466f34",
   "metadata": {},
   "outputs": [],
   "source": []
  },
  {
   "cell_type": "code",
   "execution_count": null,
   "id": "5ca810d0-410b-4bc6-bf1a-044595bd58c8",
   "metadata": {},
   "outputs": [],
   "source": [
    "async def test(stealth_page, browser_context):\n",
    "    # raise ManualLoopInterrupt()\n",
    "    # stealth_page = await browser_context.new_page()\n",
    "    # await stealth_async(stealth_page)\n",
    "    user_agent = await stealth_page.evaluate('() => navigator.userAgent')\n",
    "    print(f'user_agent: {user_agent}')\n",
    "\n",
    "wh.callee = test"
   ]
  },
  {
   "cell_type": "code",
   "execution_count": null,
   "id": "ba71fcc2-756c-4711-8dc3-ff8f2d65cbf1",
   "metadata": {},
   "outputs": [],
   "source": []
  },
  {
   "cell_type": "code",
   "execution_count": null,
   "id": "bcfbeace-7889-4fa3-9bef-b025384302c1",
   "metadata": {},
   "outputs": [],
   "source": [
    "async def test(stealth_page, browser_context):\n",
    "    # raise ManualLoopInterrupt()\n",
    "    api_req_context = browser_context.request\n",
    "    response = await api_req_context.get('https://www.pagina12.com.ar/robots.txt')\n",
    "    print(response)\n",
    "    text = await response.text()\n",
    "    print(text)\n",
    "\n",
    "wh.callee = test"
   ]
  },
  {
   "cell_type": "code",
   "execution_count": null,
   "id": "cdb232e9-6558-40d6-aced-941fa4732878",
   "metadata": {},
   "outputs": [],
   "source": []
  },
  {
   "cell_type": "code",
   "execution_count": null,
   "id": "7ef57bef-6472-4516-9236-3e13470db481",
   "metadata": {},
   "outputs": [],
   "source": [
    "async def test(stealth_page, browser_context):\n",
    "    # raise ManualLoopInterrupt()\n",
    "    print(f'stealth_page.url: {stealth_page.url}')\n",
    "    # await stealth_page.goto('https://www.pagina12.com.ar/800250-genealogistas')\n",
    "    # await stealth_page.goto('https://www.pagina12.com.ar/810583-cambio-el-mundo')\n",
    "    await stealth_page.goto('https://www.pagina12.com.ar/775639-el-futuro-de-la-ia-y-su-impacto-en-el-conocimiento-cambiara-')\n",
    "    print(f'stealth_page.url: {stealth_page.url}')\n",
    "\n",
    "wh.callee = test"
   ]
  },
  {
   "cell_type": "code",
   "execution_count": null,
   "id": "95427cb0-625b-4da3-98c3-fd6059bbd949",
   "metadata": {},
   "outputs": [],
   "source": [
    "async def test(stealth_page, browser_context):\n",
    "    # raise ManualLoopInterrupt()\n",
    "    header_div = stealth_page.locator('div.article-header')\n",
    "    await header_div.highlight()\n",
    "    print(f'header_div: {header_div}')\n",
    "    await stealth_page.wait_for_timeout(configs['WaitingSecWithinActions'] * 1000)\n",
    "\n",
    "    title_div = header_div.locator('h1')\n",
    "    await title_div.highlight()\n",
    "    print(f'title_div: {title_div}')\n",
    "    await stealth_page.wait_for_timeout(configs['WaitingSecWithinActions'] * 1000)\n",
    "\n",
    "    title_text = await title_div.inner_text()\n",
    "    print(f'title_text: {title_text}')\n",
    "\n",
    "\n",
    "wh.callee = test"
   ]
  },
  {
   "cell_type": "code",
   "execution_count": null,
   "id": "a3f34881-3846-4dc5-b9ca-463eedf03c30",
   "metadata": {},
   "outputs": [],
   "source": [
    "async def test(stealth_page, browser_context):\n",
    "    # raise ManualLoopInterrupt()\n",
    "    desktop_only_div = stealth_page.locator('div.hide-on-mobile')\n",
    "    await desktop_only_div.highlight()\n",
    "    print(f'desktop_only_div: {desktop_only_div}')\n",
    "    await stealth_page.wait_for_timeout(configs['WaitingSecWithinActions'] * 1000)\n",
    "\n",
    "    article_info_div = desktop_only_div.locator('div.article-info')\n",
    "    await article_info_div.highlight()\n",
    "    print(f'article_info_div: {article_info_div}')\n",
    "    await stealth_page.wait_for_timeout(configs['WaitingSecWithinActions'] * 1000)\n",
    "\n",
    "    date_time = article_info_div.locator('time')\n",
    "    await date_time.highlight()\n",
    "    print(f'date_time: {date_time}')\n",
    "    await stealth_page.wait_for_timeout(configs['WaitingSecWithinActions'] * 1000)\n",
    "\n",
    "    date_text = await date_time.inner_text()\n",
    "    print(f'date_text: {date_text}')\n",
    "\n",
    "\n",
    "wh.callee = test"
   ]
  },
  {
   "cell_type": "code",
   "execution_count": null,
   "id": "09b3dfe8-c2f6-4a1b-b85f-af93b78281da",
   "metadata": {},
   "outputs": [],
   "source": [
    "async def test(stealth_page, browser_context):\n",
    "    # raise ManualLoopInterrupt()\n",
    "    header_div = stealth_page.locator('div.article-header')\n",
    "    await header_div.highlight()\n",
    "    print(f'header_div: {header_div}')\n",
    "    await stealth_page.wait_for_timeout(configs['WaitingSecWithinActions'] * 1000)\n",
    "\n",
    "    author_div = header_div.locator('div.author')\n",
    "    await author_div.highlight()\n",
    "    print(f'author_div: {author_div}')\n",
    "    await stealth_page.wait_for_timeout(configs['WaitingSecWithinActions'] * 1000)\n",
    "\n",
    "    author_a = author_div.locator('a')\n",
    "    await author_a.highlight()\n",
    "    print(f'author_a: {author_a}')\n",
    "    await stealth_page.wait_for_timeout(configs['WaitingSecWithinActions'] * 1000)\n",
    "\n",
    "    author_text = await author_a.inner_text()\n",
    "    author_text = re.sub(r'^\\s*Por\\s+', '', author_text)\n",
    "    author_text = author_text.strip()\n",
    "    print(f'author_text: {author_text}')\n",
    "\n",
    "\n",
    "wh.callee = test"
   ]
  },
  {
   "cell_type": "code",
   "execution_count": null,
   "id": "81b76069-09de-4219-abc8-876b6f31af9d",
   "metadata": {},
   "outputs": [],
   "source": [
    "async def test(stealth_page, browser_context):\n",
    "    # raise ManualLoopInterrupt()\n",
    "    main_image_div = stealth_page.locator('div.article-main-image')\n",
    "    await main_image_div.highlight()\n",
    "    print(f'main_image_div: {main_image_div}')\n",
    "    await stealth_page.wait_for_timeout(configs['WaitingSecWithinActions'] * 1000)\n",
    "\n",
    "    image_img = main_image_div.locator('img')\n",
    "    await image_img.highlight()\n",
    "    print(f'image_img: {image_img}')\n",
    "    await stealth_page.wait_for_timeout(configs['WaitingSecWithinActions'] * 1000)\n",
    "\n",
    "    image_src = await image_img.get_attribute('src')\n",
    "    print(f'image_src: {image_src}')\n",
    "\n",
    "\n",
    "wh.callee = test"
   ]
  },
  {
   "cell_type": "code",
   "execution_count": null,
   "id": "53d04b2c-acfd-458b-bbe4-7b8fedc849ed",
   "metadata": {},
   "outputs": [],
   "source": [
    "async def test(stealth_page, browser_context):\n",
    "    # raise ManualLoopInterrupt()\n",
    "    main_content_div = stealth_page.locator('div.article-main-content')\n",
    "    await main_content_div.highlight()\n",
    "    print(f'main_content_div: {main_content_div}')\n",
    "    await stealth_page.wait_for_timeout(configs['WaitingSecWithinActions'] * 1000)\n",
    "\n",
    "    article_text_div = main_content_div.locator('div.article-text')\n",
    "    await article_text_div.highlight()\n",
    "    print(f'article_text_div: {article_text_div}')\n",
    "    await stealth_page.wait_for_timeout(configs['WaitingSecWithinActions'] * 1000)\n",
    "    \n",
    "    article_text = await article_text_div.inner_text()\n",
    "    print(f'date_text: {article_text}')\n",
    "\n",
    "\n",
    "wh.callee = test"
   ]
  },
  {
   "cell_type": "code",
   "execution_count": null,
   "id": "6633a9d7-1790-487f-be92-b475c0078dd3",
   "metadata": {},
   "outputs": [],
   "source": []
  }
 ],
 "metadata": {
  "kernelspec": {
   "display_name": "newsScraper",
   "language": "python",
   "name": "newsscraper"
  },
  "language_info": {
   "codemirror_mode": {
    "name": "ipython",
    "version": 3
   },
   "file_extension": ".py",
   "mimetype": "text/x-python",
   "name": "python",
   "nbconvert_exporter": "python",
   "pygments_lexer": "ipython3",
   "version": "3.12.8"
  }
 },
 "nbformat": 4,
 "nbformat_minor": 5
}
